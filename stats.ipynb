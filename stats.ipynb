{
 "cells": [
  {
   "cell_type": "code",
   "execution_count": 1,
   "metadata": {},
   "outputs": [
    {
     "name": "stdout",
     "output_type": "stream",
     "text": [
      "Requirement already satisfied: sympy in /Users/anirudhkamath/opt/anaconda3/envs/probstats/lib/python3.7/site-packages (1.5.1)\r\n",
      "Requirement already satisfied: mpmath>=0.19 in /Users/anirudhkamath/opt/anaconda3/envs/probstats/lib/python3.7/site-packages (from sympy) (1.1.0)\r\n"
     ]
    }
   ],
   "source": [
    "! pip install sympy"
   ]
  },
  {
   "cell_type": "code",
   "execution_count": 36,
   "metadata": {},
   "outputs": [],
   "source": [
    "import pandas as pd\n",
    "import numpy as np\n",
    "from sympy import *\n",
    "from IPython.display import display, Math, Latex\n",
    "import math"
   ]
  },
  {
   "cell_type": "code",
   "execution_count": 3,
   "metadata": {},
   "outputs": [],
   "source": [
    "X = \"x\"\n",
    "Y = \"y\"\n",
    "XY = \"xy\"\n",
    "YX = XY\n",
    "\n",
    "mprint = lambda *args: display(Math(' '.join([str(a) for a in args])))"
   ]
  },
  {
   "cell_type": "code",
   "execution_count": 4,
   "metadata": {},
   "outputs": [
    {
     "data": {
      "text/html": [
       "<div>\n",
       "<style scoped>\n",
       "    .dataframe tbody tr th:only-of-type {\n",
       "        vertical-align: middle;\n",
       "    }\n",
       "\n",
       "    .dataframe tbody tr th {\n",
       "        vertical-align: top;\n",
       "    }\n",
       "\n",
       "    .dataframe thead th {\n",
       "        text-align: right;\n",
       "    }\n",
       "</style>\n",
       "<table border=\"1\" class=\"dataframe\">\n",
       "  <thead>\n",
       "    <tr style=\"text-align: right;\">\n",
       "      <th></th>\n",
       "      <th>x</th>\n",
       "      <th>0</th>\n",
       "      <th>1</th>\n",
       "      <th>2</th>\n",
       "    </tr>\n",
       "  </thead>\n",
       "  <tbody>\n",
       "    <tr>\n",
       "      <th>0</th>\n",
       "      <td>0</td>\n",
       "      <td>0.25</td>\n",
       "      <td>0.000</td>\n",
       "      <td>0.125</td>\n",
       "    </tr>\n",
       "    <tr>\n",
       "      <th>1</th>\n",
       "      <td>1</td>\n",
       "      <td>0.25</td>\n",
       "      <td>0.375</td>\n",
       "      <td>0.000</td>\n",
       "    </tr>\n",
       "  </tbody>\n",
       "</table>\n",
       "</div>"
      ],
      "text/plain": [
       "   x     0      1      2\n",
       "0  0  0.25  0.000  0.125\n",
       "1  1  0.25  0.375  0.000"
      ]
     },
     "execution_count": 4,
     "metadata": {},
     "output_type": "execute_result"
    }
   ],
   "source": [
    "df = pd.DataFrame({X: (0, 1), 0: (.25, .25), 1: (0, .375), 2: (.125, 0)})\n",
    "df"
   ]
  },
  {
   "cell_type": "code",
   "execution_count": 38,
   "metadata": {},
   "outputs": [],
   "source": [
    "# E(Y)\n",
    "def Exp(var):\n",
    "    def EY(df):\n",
    "        mprint(f'E({Y}) =', '\\sum_{k=0}^n', f'k * p({Y} = k)')\n",
    "        mprint('')\n",
    "        s = 0\n",
    "        sums = []\n",
    "        for col in df.columns[1:]:\n",
    "            sumval = col * df[col].sum()\n",
    "            mprint(f'{Y}_k = {col} \\\\to', col, '*', '(' + ' + '.join([str(a) for a in df[col]]) + ')', '=', sumval)\n",
    "            sums.append(col * df[col].sum())\n",
    "        mprint('')\n",
    "        tor = sum(sums)\n",
    "        mprint(f'E({Y}) =', ' + '.join([str(a) for a in sums]), '= \\\\textbf{', tor, '}')\n",
    "        return tor\n",
    "    \n",
    "    def EX(df):\n",
    "        mprint(f'E({X}) =', '\\sum_{k=0}^n', f'k * p({X} = k)')\n",
    "        mprint('')\n",
    "        s = 0\n",
    "        sums = []\n",
    "        for _, row in df.iterrows():\n",
    "            sums.append(row[X] * sum([row[i] for i in df.columns[1:]]))\n",
    "            mprint(f'{X}_k = {row[X]} \\\\to', row[X], \"*\", '('+' + '.join([str(row[i]) for i in df.columns[1:]])+')', \"=\", sums[-1])\n",
    "        tor = sum(sums)\n",
    "        mprint('')\n",
    "        mprint(f'E({X}) =', ' + '.join([str(a) for a in sums]), '= \\\\textbf{', tor, '}')\n",
    "        return tor\n",
    "    \n",
    "    def EXY(df):\n",
    "        mprint(f'E({XY}) =', '\\sum_{k=0}^n', f'k * p({XY} = k)')\n",
    "        mprint('')\n",
    "        sums = []\n",
    "        for _, row in df.iterrows():\n",
    "            for col in df.columns[1:]:\n",
    "                prod = row[X] * col * row[col]\n",
    "                mprint(f'{X}_k, {Y}_k = ({row[X]}, {col}) \\\\to', row[X], \"*\", col, \"*\", row[col], \"=\", prod)\n",
    "                sums.append(prod)\n",
    "        tor = sum(sums)\n",
    "        mprint('')\n",
    "        mprint(f'E({XY}) =', ' + '.join([str(a) for a in sums]), \"= \\\\textbf{\", tor, '}')\n",
    "        return tor\n",
    "        \n",
    "    varmap = {X: EX, Y: EY, XY: EXY}\n",
    "    return varmap[var]"
   ]
  },
  {
   "cell_type": "code",
   "execution_count": 39,
   "metadata": {},
   "outputs": [
    {
     "data": {
      "text/latex": [
       "$\\displaystyle E(y) = \\sum_{k=0}^n k * p(y = k)$"
      ],
      "text/plain": [
       "<IPython.core.display.Math object>"
      ]
     },
     "metadata": {},
     "output_type": "display_data"
    },
    {
     "data": {
      "text/latex": [
       "$\\displaystyle $"
      ],
      "text/plain": [
       "<IPython.core.display.Math object>"
      ]
     },
     "metadata": {},
     "output_type": "display_data"
    },
    {
     "data": {
      "text/latex": [
       "$\\displaystyle y_k = 0 \\to 0 * (0.25 + 0.25) = 0.0$"
      ],
      "text/plain": [
       "<IPython.core.display.Math object>"
      ]
     },
     "metadata": {},
     "output_type": "display_data"
    },
    {
     "data": {
      "text/latex": [
       "$\\displaystyle y_k = 1 \\to 1 * (0.0 + 0.375) = 0.375$"
      ],
      "text/plain": [
       "<IPython.core.display.Math object>"
      ]
     },
     "metadata": {},
     "output_type": "display_data"
    },
    {
     "data": {
      "text/latex": [
       "$\\displaystyle y_k = 2 \\to 2 * (0.125 + 0.0) = 0.25$"
      ],
      "text/plain": [
       "<IPython.core.display.Math object>"
      ]
     },
     "metadata": {},
     "output_type": "display_data"
    },
    {
     "data": {
      "text/latex": [
       "$\\displaystyle $"
      ],
      "text/plain": [
       "<IPython.core.display.Math object>"
      ]
     },
     "metadata": {},
     "output_type": "display_data"
    },
    {
     "data": {
      "text/latex": [
       "$\\displaystyle E(y) = 0.0 + 0.375 + 0.25 = \\textbf{ 0.625 }$"
      ],
      "text/plain": [
       "<IPython.core.display.Math object>"
      ]
     },
     "metadata": {},
     "output_type": "display_data"
    },
    {
     "data": {
      "text/plain": [
       "0.625"
      ]
     },
     "execution_count": 39,
     "metadata": {},
     "output_type": "execute_result"
    }
   ],
   "source": [
    "Exp(Y)(df)"
   ]
  },
  {
   "cell_type": "code",
   "execution_count": 40,
   "metadata": {},
   "outputs": [
    {
     "data": {
      "text/latex": [
       "$\\displaystyle E(x) = \\sum_{k=0}^n k * p(x = k)$"
      ],
      "text/plain": [
       "<IPython.core.display.Math object>"
      ]
     },
     "metadata": {},
     "output_type": "display_data"
    },
    {
     "data": {
      "text/latex": [
       "$\\displaystyle $"
      ],
      "text/plain": [
       "<IPython.core.display.Math object>"
      ]
     },
     "metadata": {},
     "output_type": "display_data"
    },
    {
     "data": {
      "text/latex": [
       "$\\displaystyle x_k = 0.0 \\to 0.0 * (0.25 + 0.0 + 0.125) = 0.0$"
      ],
      "text/plain": [
       "<IPython.core.display.Math object>"
      ]
     },
     "metadata": {},
     "output_type": "display_data"
    },
    {
     "data": {
      "text/latex": [
       "$\\displaystyle x_k = 1.0 \\to 1.0 * (0.25 + 0.375 + 0.0) = 0.625$"
      ],
      "text/plain": [
       "<IPython.core.display.Math object>"
      ]
     },
     "metadata": {},
     "output_type": "display_data"
    },
    {
     "data": {
      "text/latex": [
       "$\\displaystyle $"
      ],
      "text/plain": [
       "<IPython.core.display.Math object>"
      ]
     },
     "metadata": {},
     "output_type": "display_data"
    },
    {
     "data": {
      "text/latex": [
       "$\\displaystyle E(x) = 0.0 + 0.625 = \\textbf{ 0.625 }$"
      ],
      "text/plain": [
       "<IPython.core.display.Math object>"
      ]
     },
     "metadata": {},
     "output_type": "display_data"
    },
    {
     "data": {
      "text/plain": [
       "0.625"
      ]
     },
     "execution_count": 40,
     "metadata": {},
     "output_type": "execute_result"
    }
   ],
   "source": [
    "Exp(X)(df)"
   ]
  },
  {
   "cell_type": "code",
   "execution_count": 41,
   "metadata": {},
   "outputs": [
    {
     "data": {
      "text/latex": [
       "$\\displaystyle E(xy) = \\sum_{k=0}^n k * p(xy = k)$"
      ],
      "text/plain": [
       "<IPython.core.display.Math object>"
      ]
     },
     "metadata": {},
     "output_type": "display_data"
    },
    {
     "data": {
      "text/latex": [
       "$\\displaystyle $"
      ],
      "text/plain": [
       "<IPython.core.display.Math object>"
      ]
     },
     "metadata": {},
     "output_type": "display_data"
    },
    {
     "data": {
      "text/latex": [
       "$\\displaystyle x_k, y_k = (0.0, 0) \\to 0.0 * 0 * 0.25 = 0.0$"
      ],
      "text/plain": [
       "<IPython.core.display.Math object>"
      ]
     },
     "metadata": {},
     "output_type": "display_data"
    },
    {
     "data": {
      "text/latex": [
       "$\\displaystyle x_k, y_k = (0.0, 1) \\to 0.0 * 1 * 0.0 = 0.0$"
      ],
      "text/plain": [
       "<IPython.core.display.Math object>"
      ]
     },
     "metadata": {},
     "output_type": "display_data"
    },
    {
     "data": {
      "text/latex": [
       "$\\displaystyle x_k, y_k = (0.0, 2) \\to 0.0 * 2 * 0.125 = 0.0$"
      ],
      "text/plain": [
       "<IPython.core.display.Math object>"
      ]
     },
     "metadata": {},
     "output_type": "display_data"
    },
    {
     "data": {
      "text/latex": [
       "$\\displaystyle x_k, y_k = (1.0, 0) \\to 1.0 * 0 * 0.25 = 0.0$"
      ],
      "text/plain": [
       "<IPython.core.display.Math object>"
      ]
     },
     "metadata": {},
     "output_type": "display_data"
    },
    {
     "data": {
      "text/latex": [
       "$\\displaystyle x_k, y_k = (1.0, 1) \\to 1.0 * 1 * 0.375 = 0.375$"
      ],
      "text/plain": [
       "<IPython.core.display.Math object>"
      ]
     },
     "metadata": {},
     "output_type": "display_data"
    },
    {
     "data": {
      "text/latex": [
       "$\\displaystyle x_k, y_k = (1.0, 2) \\to 1.0 * 2 * 0.0 = 0.0$"
      ],
      "text/plain": [
       "<IPython.core.display.Math object>"
      ]
     },
     "metadata": {},
     "output_type": "display_data"
    },
    {
     "data": {
      "text/latex": [
       "$\\displaystyle $"
      ],
      "text/plain": [
       "<IPython.core.display.Math object>"
      ]
     },
     "metadata": {},
     "output_type": "display_data"
    },
    {
     "data": {
      "text/latex": [
       "$\\displaystyle E(xy) = 0.0 + 0.0 + 0.0 + 0.0 + 0.375 + 0.0 = \\textbf{ 0.375 }$"
      ],
      "text/plain": [
       "<IPython.core.display.Math object>"
      ]
     },
     "metadata": {},
     "output_type": "display_data"
    },
    {
     "data": {
      "text/plain": [
       "0.375"
      ]
     },
     "execution_count": 41,
     "metadata": {},
     "output_type": "execute_result"
    }
   ],
   "source": [
    "Exp(XY)(df)"
   ]
  },
  {
   "cell_type": "code",
   "execution_count": 74,
   "metadata": {},
   "outputs": [],
   "source": [
    "# var(Y)\n",
    "def variance(var, func=None):\n",
    "    def varY(df,):\n",
    "        mprint(f\"var({Y}) =\", f\"E[({Y} - \\mu_{Y})^2]\", \"= \\sum_{i=0}^n\", f\"({Y}_i - E({Y}))^2\")\n",
    "        mprint('')\n",
    "        ey = Exp(Y)(df)\n",
    "        mprint('')\n",
    "        s = 0\n",
    "        sums = []\n",
    "        for col in df.columns[1:]:\n",
    "            p = df[col].sum()\n",
    "            n = int(col)\n",
    "            sums.append(p * (n - ey)**2)\n",
    "            mprint(f'{Y}_k = {n} \\\\to', f'{p}*({n} - {ey})^2 =', sums[-1])\n",
    "        mprint('')\n",
    "        tor = sum(sums)\n",
    "        mprint(f\"var({Y}) =\", ' + '.join([str(a) for a in sums]), '= \\\\textbf{', tor, '}')\n",
    "        return tor\n",
    "\n",
    "    def varX(df):\n",
    "        mprint(f\"var({X}) =\", f\"E[({X} - \\mu_{X})^2]\", \"= \\sum_{i=0}^n\", f\"({X}_i - E({X}))^2\")\n",
    "        mprint('')\n",
    "        ex = Exp(X)(df)\n",
    "        mprint('')\n",
    "        s = 0\n",
    "        sums = []\n",
    "        for _, row in df.iterrows():\n",
    "            p = sum([row[i] for i in df.columns[1:]])\n",
    "            n = int(row[X])\n",
    "            sums.append(p * (n - ex)**2)\n",
    "            mprint(f'{X}_k = {n} \\\\to', f'{p}*({n} - {ex})^2 =', sums[-1])\n",
    "        tor = sum(sums)\n",
    "        mprint('')\n",
    "        mprint(f'var({X}) =', ' + '.join([str(a) for a in sums]), '= \\\\textbf{', tor, '}')\n",
    "        return tor\n",
    "    \n",
    "    if func:\n",
    "        coeff = func(1) - func(0)\n",
    "        mprint('\\\\textbf{constants/intercepts get dropped}')\n",
    "        mprint(f\"var({coeff}{var}) = {coeff}^2*var({var}) = {coeff**2}*var({var})\")\n",
    "        def finish(df):\n",
    "            v = variance(var)(df)\n",
    "            tor = coeff**2 * v\n",
    "            mprint(f\"var({coeff}{var}) = {coeff**2}*{v} =\", \"\\\\textbf{%s}\" % tor)\n",
    "            return tor\n",
    "        return finish\n",
    "        \n",
    "    varmap = {X: lambda df: varX(df), Y: lambda df: varY(df)}\n",
    "    return varmap[var]"
   ]
  },
  {
   "cell_type": "code",
   "execution_count": 75,
   "metadata": {},
   "outputs": [
    {
     "data": {
      "text/latex": [
       "$\\displaystyle \\textbf{constants/intercepts get dropped}$"
      ],
      "text/plain": [
       "<IPython.core.display.Math object>"
      ]
     },
     "metadata": {},
     "output_type": "display_data"
    },
    {
     "data": {
      "text/latex": [
       "$\\displaystyle var(2y) = 2^2*var(y) = 4*var(y)$"
      ],
      "text/plain": [
       "<IPython.core.display.Math object>"
      ]
     },
     "metadata": {},
     "output_type": "display_data"
    },
    {
     "data": {
      "text/latex": [
       "$\\displaystyle var(y) = E[(y - \\mu_y)^2] = \\sum_{i=0}^n (y_i - E(y))^2$"
      ],
      "text/plain": [
       "<IPython.core.display.Math object>"
      ]
     },
     "metadata": {},
     "output_type": "display_data"
    },
    {
     "data": {
      "text/latex": [
       "$\\displaystyle $"
      ],
      "text/plain": [
       "<IPython.core.display.Math object>"
      ]
     },
     "metadata": {},
     "output_type": "display_data"
    },
    {
     "data": {
      "text/latex": [
       "$\\displaystyle E(y) = \\sum_{k=0}^n k * p(y = k)$"
      ],
      "text/plain": [
       "<IPython.core.display.Math object>"
      ]
     },
     "metadata": {},
     "output_type": "display_data"
    },
    {
     "data": {
      "text/latex": [
       "$\\displaystyle $"
      ],
      "text/plain": [
       "<IPython.core.display.Math object>"
      ]
     },
     "metadata": {},
     "output_type": "display_data"
    },
    {
     "data": {
      "text/latex": [
       "$\\displaystyle y_k = 0 \\to 0 * (0.25 + 0.25) = 0.0$"
      ],
      "text/plain": [
       "<IPython.core.display.Math object>"
      ]
     },
     "metadata": {},
     "output_type": "display_data"
    },
    {
     "data": {
      "text/latex": [
       "$\\displaystyle y_k = 1 \\to 1 * (0.0 + 0.375) = 0.375$"
      ],
      "text/plain": [
       "<IPython.core.display.Math object>"
      ]
     },
     "metadata": {},
     "output_type": "display_data"
    },
    {
     "data": {
      "text/latex": [
       "$\\displaystyle y_k = 2 \\to 2 * (0.125 + 0.0) = 0.25$"
      ],
      "text/plain": [
       "<IPython.core.display.Math object>"
      ]
     },
     "metadata": {},
     "output_type": "display_data"
    },
    {
     "data": {
      "text/latex": [
       "$\\displaystyle $"
      ],
      "text/plain": [
       "<IPython.core.display.Math object>"
      ]
     },
     "metadata": {},
     "output_type": "display_data"
    },
    {
     "data": {
      "text/latex": [
       "$\\displaystyle E(y) = 0.0 + 0.375 + 0.25 = \\textbf{ 0.625 }$"
      ],
      "text/plain": [
       "<IPython.core.display.Math object>"
      ]
     },
     "metadata": {},
     "output_type": "display_data"
    },
    {
     "data": {
      "text/latex": [
       "$\\displaystyle $"
      ],
      "text/plain": [
       "<IPython.core.display.Math object>"
      ]
     },
     "metadata": {},
     "output_type": "display_data"
    },
    {
     "data": {
      "text/latex": [
       "$\\displaystyle y_k = 0 \\to 0.5*(0 - 0.625)^2 = 0.1953125$"
      ],
      "text/plain": [
       "<IPython.core.display.Math object>"
      ]
     },
     "metadata": {},
     "output_type": "display_data"
    },
    {
     "data": {
      "text/latex": [
       "$\\displaystyle y_k = 1 \\to 0.375*(1 - 0.625)^2 = 0.052734375$"
      ],
      "text/plain": [
       "<IPython.core.display.Math object>"
      ]
     },
     "metadata": {},
     "output_type": "display_data"
    },
    {
     "data": {
      "text/latex": [
       "$\\displaystyle y_k = 2 \\to 0.125*(2 - 0.625)^2 = 0.236328125$"
      ],
      "text/plain": [
       "<IPython.core.display.Math object>"
      ]
     },
     "metadata": {},
     "output_type": "display_data"
    },
    {
     "data": {
      "text/latex": [
       "$\\displaystyle $"
      ],
      "text/plain": [
       "<IPython.core.display.Math object>"
      ]
     },
     "metadata": {},
     "output_type": "display_data"
    },
    {
     "data": {
      "text/latex": [
       "$\\displaystyle var(y) = 0.1953125 + 0.052734375 + 0.236328125 = \\textbf{ 0.484375 }$"
      ],
      "text/plain": [
       "<IPython.core.display.Math object>"
      ]
     },
     "metadata": {},
     "output_type": "display_data"
    },
    {
     "data": {
      "text/latex": [
       "$\\displaystyle var(2y) = 4*0.484375 = \\textbf{1.9375}$"
      ],
      "text/plain": [
       "<IPython.core.display.Math object>"
      ]
     },
     "metadata": {},
     "output_type": "display_data"
    },
    {
     "data": {
      "text/plain": [
       "1.9375"
      ]
     },
     "execution_count": 75,
     "metadata": {},
     "output_type": "execute_result"
    }
   ],
   "source": [
    "variance(Y, lambda y: 2*y+2)(df)"
   ]
  },
  {
   "cell_type": "code",
   "execution_count": 79,
   "metadata": {},
   "outputs": [],
   "source": [
    "# var(Y)\n",
    "def stdev(var, func=None):\n",
    "    def stdX(df):\n",
    "        mprint(f\"\\\\sigma({X}) =\", \"\\\\sqrt{var(%s)}\" % X)\n",
    "        v = variance(X)(df)\n",
    "        tor = math.sqrt(v)\n",
    "        mprint(f\"\\\\sigma({X}) =\", \"\\\\sqrt{%s}\" % v, '=', tor)\n",
    "        return tor\n",
    "\n",
    "    def stdY(df):\n",
    "        v = variance(Y)(df)\n",
    "        tor = math.sqrt(v)\n",
    "        mprint(f\"\\\\sigma({Y}) =\", \"\\\\sqrt{%s}\" % v, '=', tor)\n",
    "        return tor\n",
    "    \n",
    "    if func:\n",
    "        coeff = func(1) - func(0)\n",
    "        mprint('\\\\textbf{constants/intercepts get dropped}')\n",
    "        mprint(f\"\\\\sigma({coeff}{var}) = |{coeff}|*var({var}) = {abs(coeff)}*\\\\sigma({var})\")\n",
    "        def finish(df):\n",
    "            s = stdev(var)(df)\n",
    "            print(s)\n",
    "            tor = abs(coeff) * s\n",
    "            mprint(f\"\\\\sigma({coeff}{var}) = {abs(coeff)}*var({var}) =\", \"\\\\textbf{%s}\" % tor)\n",
    "            return tor\n",
    "        return finish\n",
    "    \n",
    "    varmap = {X: stdX, Y: stdY}\n",
    "    return varmap[var]"
   ]
  },
  {
   "cell_type": "code",
   "execution_count": 81,
   "metadata": {},
   "outputs": [
    {
     "data": {
      "text/latex": [
       "$\\displaystyle \\textbf{constants/intercepts get dropped}$"
      ],
      "text/plain": [
       "<IPython.core.display.Math object>"
      ]
     },
     "metadata": {},
     "output_type": "display_data"
    },
    {
     "data": {
      "text/latex": [
       "$\\displaystyle \\sigma(2x) = |2|*var(x) = 2*\\sigma(x)$"
      ],
      "text/plain": [
       "<IPython.core.display.Math object>"
      ]
     },
     "metadata": {},
     "output_type": "display_data"
    },
    {
     "data": {
      "text/latex": [
       "$\\displaystyle \\sigma(x) = \\sqrt{var(x)}$"
      ],
      "text/plain": [
       "<IPython.core.display.Math object>"
      ]
     },
     "metadata": {},
     "output_type": "display_data"
    },
    {
     "data": {
      "text/latex": [
       "$\\displaystyle var(x) = E[(x - \\mu_x)^2] = \\sum_{i=0}^n (x_i - E(x))^2$"
      ],
      "text/plain": [
       "<IPython.core.display.Math object>"
      ]
     },
     "metadata": {},
     "output_type": "display_data"
    },
    {
     "data": {
      "text/latex": [
       "$\\displaystyle $"
      ],
      "text/plain": [
       "<IPython.core.display.Math object>"
      ]
     },
     "metadata": {},
     "output_type": "display_data"
    },
    {
     "data": {
      "text/latex": [
       "$\\displaystyle E(x) = \\sum_{k=0}^n k * p(x = k)$"
      ],
      "text/plain": [
       "<IPython.core.display.Math object>"
      ]
     },
     "metadata": {},
     "output_type": "display_data"
    },
    {
     "data": {
      "text/latex": [
       "$\\displaystyle $"
      ],
      "text/plain": [
       "<IPython.core.display.Math object>"
      ]
     },
     "metadata": {},
     "output_type": "display_data"
    },
    {
     "data": {
      "text/latex": [
       "$\\displaystyle x_k = 0.0 \\to 0.0 * (0.25 + 0.0 + 0.125) = 0.0$"
      ],
      "text/plain": [
       "<IPython.core.display.Math object>"
      ]
     },
     "metadata": {},
     "output_type": "display_data"
    },
    {
     "data": {
      "text/latex": [
       "$\\displaystyle x_k = 1.0 \\to 1.0 * (0.25 + 0.375 + 0.0) = 0.625$"
      ],
      "text/plain": [
       "<IPython.core.display.Math object>"
      ]
     },
     "metadata": {},
     "output_type": "display_data"
    },
    {
     "data": {
      "text/latex": [
       "$\\displaystyle $"
      ],
      "text/plain": [
       "<IPython.core.display.Math object>"
      ]
     },
     "metadata": {},
     "output_type": "display_data"
    },
    {
     "data": {
      "text/latex": [
       "$\\displaystyle E(x) = 0.0 + 0.625 = \\textbf{ 0.625 }$"
      ],
      "text/plain": [
       "<IPython.core.display.Math object>"
      ]
     },
     "metadata": {},
     "output_type": "display_data"
    },
    {
     "data": {
      "text/latex": [
       "$\\displaystyle $"
      ],
      "text/plain": [
       "<IPython.core.display.Math object>"
      ]
     },
     "metadata": {},
     "output_type": "display_data"
    },
    {
     "data": {
      "text/latex": [
       "$\\displaystyle x_k = 0 \\to 0.375*(0 - 0.625)^2 = 0.146484375$"
      ],
      "text/plain": [
       "<IPython.core.display.Math object>"
      ]
     },
     "metadata": {},
     "output_type": "display_data"
    },
    {
     "data": {
      "text/latex": [
       "$\\displaystyle x_k = 1 \\to 0.625*(1 - 0.625)^2 = 0.087890625$"
      ],
      "text/plain": [
       "<IPython.core.display.Math object>"
      ]
     },
     "metadata": {},
     "output_type": "display_data"
    },
    {
     "data": {
      "text/latex": [
       "$\\displaystyle $"
      ],
      "text/plain": [
       "<IPython.core.display.Math object>"
      ]
     },
     "metadata": {},
     "output_type": "display_data"
    },
    {
     "data": {
      "text/latex": [
       "$\\displaystyle var(x) = 0.146484375 + 0.087890625 = \\textbf{ 0.234375 }$"
      ],
      "text/plain": [
       "<IPython.core.display.Math object>"
      ]
     },
     "metadata": {},
     "output_type": "display_data"
    },
    {
     "data": {
      "text/latex": [
       "$\\displaystyle \\sigma(x) = \\sqrt{0.234375} = 0.4841229182759271$"
      ],
      "text/plain": [
       "<IPython.core.display.Math object>"
      ]
     },
     "metadata": {},
     "output_type": "display_data"
    },
    {
     "name": "stdout",
     "output_type": "stream",
     "text": [
      "0.4841229182759271\n"
     ]
    },
    {
     "data": {
      "text/latex": [
       "$\\displaystyle \\sigma(2x) = 2*var(x) = \\textbf{0.9682458365518543}$"
      ],
      "text/plain": [
       "<IPython.core.display.Math object>"
      ]
     },
     "metadata": {},
     "output_type": "display_data"
    },
    {
     "data": {
      "text/plain": [
       "0.9682458365518543"
      ]
     },
     "execution_count": 81,
     "metadata": {},
     "output_type": "execute_result"
    }
   ],
   "source": [
    "stdev(X, func=lambda x: 2*x + 5)(df)"
   ]
  },
  {
   "cell_type": "code",
   "execution_count": 84,
   "metadata": {},
   "outputs": [
    {
     "data": {
      "text/latex": [
       "$\\displaystyle \\textbf{constants get dropped}$"
      ],
      "text/plain": [
       "<IPython.core.display.Math object>"
      ]
     },
     "metadata": {},
     "output_type": "display_data"
    },
    {
     "data": {
      "text/latex": [
       "$\\displaystyle cov(2x, 5y) = 2*5*cov(x, y) = 10(E(xy) - E(x)E(y))$"
      ],
      "text/plain": [
       "<IPython.core.display.Math object>"
      ]
     },
     "metadata": {},
     "output_type": "display_data"
    },
    {
     "data": {
      "text/latex": [
       "$\\displaystyle $"
      ],
      "text/plain": [
       "<IPython.core.display.Math object>"
      ]
     },
     "metadata": {},
     "output_type": "display_data"
    },
    {
     "data": {
      "text/latex": [
       "$\\displaystyle E(xy) = \\sum_{k=0}^n k * p(xy = k)$"
      ],
      "text/plain": [
       "<IPython.core.display.Math object>"
      ]
     },
     "metadata": {},
     "output_type": "display_data"
    },
    {
     "data": {
      "text/latex": [
       "$\\displaystyle $"
      ],
      "text/plain": [
       "<IPython.core.display.Math object>"
      ]
     },
     "metadata": {},
     "output_type": "display_data"
    },
    {
     "data": {
      "text/latex": [
       "$\\displaystyle x_k, y_k = (0.0, 0) \\to 0.0 * 0 * 0.25 = 0.0$"
      ],
      "text/plain": [
       "<IPython.core.display.Math object>"
      ]
     },
     "metadata": {},
     "output_type": "display_data"
    },
    {
     "data": {
      "text/latex": [
       "$\\displaystyle x_k, y_k = (0.0, 1) \\to 0.0 * 1 * 0.0 = 0.0$"
      ],
      "text/plain": [
       "<IPython.core.display.Math object>"
      ]
     },
     "metadata": {},
     "output_type": "display_data"
    },
    {
     "data": {
      "text/latex": [
       "$\\displaystyle x_k, y_k = (0.0, 2) \\to 0.0 * 2 * 0.125 = 0.0$"
      ],
      "text/plain": [
       "<IPython.core.display.Math object>"
      ]
     },
     "metadata": {},
     "output_type": "display_data"
    },
    {
     "data": {
      "text/latex": [
       "$\\displaystyle x_k, y_k = (1.0, 0) \\to 1.0 * 0 * 0.25 = 0.0$"
      ],
      "text/plain": [
       "<IPython.core.display.Math object>"
      ]
     },
     "metadata": {},
     "output_type": "display_data"
    },
    {
     "data": {
      "text/latex": [
       "$\\displaystyle x_k, y_k = (1.0, 1) \\to 1.0 * 1 * 0.375 = 0.375$"
      ],
      "text/plain": [
       "<IPython.core.display.Math object>"
      ]
     },
     "metadata": {},
     "output_type": "display_data"
    },
    {
     "data": {
      "text/latex": [
       "$\\displaystyle x_k, y_k = (1.0, 2) \\to 1.0 * 2 * 0.0 = 0.0$"
      ],
      "text/plain": [
       "<IPython.core.display.Math object>"
      ]
     },
     "metadata": {},
     "output_type": "display_data"
    },
    {
     "data": {
      "text/latex": [
       "$\\displaystyle $"
      ],
      "text/plain": [
       "<IPython.core.display.Math object>"
      ]
     },
     "metadata": {},
     "output_type": "display_data"
    },
    {
     "data": {
      "text/latex": [
       "$\\displaystyle E(xy) = 0.0 + 0.0 + 0.0 + 0.0 + 0.375 + 0.0 = \\textbf{ 0.375 }$"
      ],
      "text/plain": [
       "<IPython.core.display.Math object>"
      ]
     },
     "metadata": {},
     "output_type": "display_data"
    },
    {
     "data": {
      "text/latex": [
       "$\\displaystyle $"
      ],
      "text/plain": [
       "<IPython.core.display.Math object>"
      ]
     },
     "metadata": {},
     "output_type": "display_data"
    },
    {
     "data": {
      "text/latex": [
       "$\\displaystyle E(x) = \\sum_{k=0}^n k * p(x = k)$"
      ],
      "text/plain": [
       "<IPython.core.display.Math object>"
      ]
     },
     "metadata": {},
     "output_type": "display_data"
    },
    {
     "data": {
      "text/latex": [
       "$\\displaystyle $"
      ],
      "text/plain": [
       "<IPython.core.display.Math object>"
      ]
     },
     "metadata": {},
     "output_type": "display_data"
    },
    {
     "data": {
      "text/latex": [
       "$\\displaystyle x_k = 0.0 \\to 0.0 * (0.25 + 0.0 + 0.125) = 0.0$"
      ],
      "text/plain": [
       "<IPython.core.display.Math object>"
      ]
     },
     "metadata": {},
     "output_type": "display_data"
    },
    {
     "data": {
      "text/latex": [
       "$\\displaystyle x_k = 1.0 \\to 1.0 * (0.25 + 0.375 + 0.0) = 0.625$"
      ],
      "text/plain": [
       "<IPython.core.display.Math object>"
      ]
     },
     "metadata": {},
     "output_type": "display_data"
    },
    {
     "data": {
      "text/latex": [
       "$\\displaystyle $"
      ],
      "text/plain": [
       "<IPython.core.display.Math object>"
      ]
     },
     "metadata": {},
     "output_type": "display_data"
    },
    {
     "data": {
      "text/latex": [
       "$\\displaystyle E(x) = 0.0 + 0.625 = \\textbf{ 0.625 }$"
      ],
      "text/plain": [
       "<IPython.core.display.Math object>"
      ]
     },
     "metadata": {},
     "output_type": "display_data"
    },
    {
     "data": {
      "text/latex": [
       "$\\displaystyle $"
      ],
      "text/plain": [
       "<IPython.core.display.Math object>"
      ]
     },
     "metadata": {},
     "output_type": "display_data"
    },
    {
     "data": {
      "text/latex": [
       "$\\displaystyle E(y) = \\sum_{k=0}^n k * p(y = k)$"
      ],
      "text/plain": [
       "<IPython.core.display.Math object>"
      ]
     },
     "metadata": {},
     "output_type": "display_data"
    },
    {
     "data": {
      "text/latex": [
       "$\\displaystyle $"
      ],
      "text/plain": [
       "<IPython.core.display.Math object>"
      ]
     },
     "metadata": {},
     "output_type": "display_data"
    },
    {
     "data": {
      "text/latex": [
       "$\\displaystyle y_k = 0 \\to 0 * (0.25 + 0.25) = 0.0$"
      ],
      "text/plain": [
       "<IPython.core.display.Math object>"
      ]
     },
     "metadata": {},
     "output_type": "display_data"
    },
    {
     "data": {
      "text/latex": [
       "$\\displaystyle y_k = 1 \\to 1 * (0.0 + 0.375) = 0.375$"
      ],
      "text/plain": [
       "<IPython.core.display.Math object>"
      ]
     },
     "metadata": {},
     "output_type": "display_data"
    },
    {
     "data": {
      "text/latex": [
       "$\\displaystyle y_k = 2 \\to 2 * (0.125 + 0.0) = 0.25$"
      ],
      "text/plain": [
       "<IPython.core.display.Math object>"
      ]
     },
     "metadata": {},
     "output_type": "display_data"
    },
    {
     "data": {
      "text/latex": [
       "$\\displaystyle $"
      ],
      "text/plain": [
       "<IPython.core.display.Math object>"
      ]
     },
     "metadata": {},
     "output_type": "display_data"
    },
    {
     "data": {
      "text/latex": [
       "$\\displaystyle E(y) = 0.0 + 0.375 + 0.25 = \\textbf{ 0.625 }$"
      ],
      "text/plain": [
       "<IPython.core.display.Math object>"
      ]
     },
     "metadata": {},
     "output_type": "display_data"
    },
    {
     "data": {
      "text/latex": [
       "$\\displaystyle $"
      ],
      "text/plain": [
       "<IPython.core.display.Math object>"
      ]
     },
     "metadata": {},
     "output_type": "display_data"
    },
    {
     "data": {
      "text/latex": [
       "$\\displaystyle 10cov(x, y) = 10 * (0.375 - 0.625 * 0.625) = \\textbf{-0.15625}$"
      ],
      "text/plain": [
       "<IPython.core.display.Math object>"
      ]
     },
     "metadata": {},
     "output_type": "display_data"
    },
    {
     "data": {
      "text/plain": [
       "-1.5625"
      ]
     },
     "execution_count": 84,
     "metadata": {},
     "output_type": "execute_result"
    }
   ],
   "source": [
    "def cov(x, y):\n",
    "    def covariance(df, x_coeff, y_coeff):\n",
    "        exy = Exp(XY)(df)\n",
    "        mprint('')\n",
    "        ex = Exp(X)(df)\n",
    "        mprint('')\n",
    "        ey = Exp(Y)(df)\n",
    "        mprint('')\n",
    "        tor = x_coeff*y_coeff*(exy - ex*ey)\n",
    "        if y_coeff != 1 or x_coeff != 1:\n",
    "            mprint(f\"{x_coeff*y_coeff}cov({X}, {Y}) = {x_coeff*y_coeff} * ({exy} - {ex} * {ey}) =\", \"\\\\textbf{%s}\" % tor)\n",
    "        else:\n",
    "            mprint(f\"cov({X}, {Y}) = {exy} - {ex} * {ey} =\", \"\\\\textbf{%s}\" % tor)\n",
    "        return tor\n",
    "    \n",
    "    # DOES NOT WORK WHEN X OR Y ARE DIFFERENT DISTRIBUTIONS\n",
    "    # this just gets the coefficient if you pass in, say lambda x: 2*x + 5, the 5 gets removed and the 2 stays\n",
    "    x_coeff = 1\n",
    "    y_coeff = 1\n",
    "    if callable(x):\n",
    "        x_coeff *= (x(1) - x(0))\n",
    "    if callable(y):\n",
    "        y_coeff *= (y(1) - y(0))\n",
    "    if x_coeff != 1 and y_coeff != 1:\n",
    "        mprint(\"\\\\textbf{constants get dropped}\")\n",
    "        mprint(f\"cov({x_coeff}{X}, {y_coeff}{Y}) = {x_coeff}*{y_coeff}*cov({X}, {Y}) = {x_coeff*y_coeff}(E({X}{Y}) - E({X})E({Y}))\")\n",
    "    elif x_coeff != 1:\n",
    "        mprint(\"\\\\textbf{constants get dropped}\")\n",
    "        mprint(f\"cov({x_coeff}{X}, {Y}) = {x_coeff}*cov({X}, {Y}) = {x_coeff*y_coeff}(E({X}{Y}) - E({X})E({Y}))\")\n",
    "    elif y_coeff != 1:\n",
    "        mprint(\"\\\\textbf{constants get dropped}\")\n",
    "        mprint(f\"cov({X}, {y_coeff}{Y}) = {y_coeff}*cov({X}, {Y}) = {x_coeff*y_coeff}(E({X}{Y}) - E({X})E({Y}))\")\n",
    "        \n",
    "    mprint('')\n",
    "    return lambda df: x_coeff * y_coeff * covariance(df, x_coeff, y_coeff)\n",
    "    \n",
    "cov(lambda x: 2*x + 5, lambda y: 5*y + 10)(df)"
   ]
  },
  {
   "cell_type": "code",
   "execution_count": 12,
   "metadata": {},
   "outputs": [
    {
     "ename": "SyntaxError",
     "evalue": "unexpected EOF while parsing (<ipython-input-12-9d531f0c32bf>, line 3)",
     "output_type": "error",
     "traceback": [
      "\u001b[0;36m  File \u001b[0;32m\"<ipython-input-12-9d531f0c32bf>\"\u001b[0;36m, line \u001b[0;32m3\u001b[0m\n\u001b[0;31m    \u001b[0m\n\u001b[0m    ^\u001b[0m\n\u001b[0;31mSyntaxError\u001b[0m\u001b[0;31m:\u001b[0m unexpected EOF while parsing\n"
     ]
    }
   ],
   "source": [
    "def corr(x=X, y=Y):\n",
    "    def correlation():\n",
    "        "
   ]
  },
  {
   "cell_type": "code",
   "execution_count": null,
   "metadata": {},
   "outputs": [],
   "source": [
    "display(Math('F(k) = \\int_{-\\infty}^{\\infty} f(x) e^{2\\pi i k} dx'))"
   ]
  },
  {
   "cell_type": "code",
   "execution_count": null,
   "metadata": {},
   "outputs": [],
   "source": []
  }
 ],
 "metadata": {
  "kernelspec": {
   "display_name": "Python 3",
   "language": "python",
   "name": "python3"
  },
  "language_info": {
   "codemirror_mode": {
    "name": "ipython",
    "version": 3
   },
   "file_extension": ".py",
   "mimetype": "text/x-python",
   "name": "python",
   "nbconvert_exporter": "python",
   "pygments_lexer": "ipython3",
   "version": "3.7.6"
  }
 },
 "nbformat": 4,
 "nbformat_minor": 4
}
